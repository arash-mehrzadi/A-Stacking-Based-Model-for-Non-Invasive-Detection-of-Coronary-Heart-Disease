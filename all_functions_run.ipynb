{
 "cells": [
  {
   "cell_type": "code",
   "source": [
    "\n",
    "import json\n",
    "import src.paper_proposed_method as sbm\n",
    "import src.methods_evaluation as me\n",
    "import src.experience as exp\n",
    "import src.Feature_selection as fsc\n",
    "\n",
    "\n",
    "eval_Config_Path = 'Config/models_evaluation.json'\n",
    "fs_Config_Path = 'Config/models_evaluation.json'"
   ],
   "metadata": {
    "id": "xSrd5lRIGp4v"
   },
   "id": "xSrd5lRIGp4v",
   "execution_count": null,
   "outputs": []
  },
  {
   "cell_type": "markdown",
   "source": [
    "# Table 2 Output"
   ],
   "metadata": {
    "id": "oXZgOrcCG6io"
   },
   "id": "oXZgOrcCG6io"
  },
  {
   "cell_type": "code",
   "source": [
    "with open(eval_Config_Path) as config_file:\n",
    "    cfg = json.load(config_file)\n",
    "HP = exp.create_experiments()\n",
    "eval_m = me.methods(cfg, HP, 'datapath_processed')\n",
    "eval_m.models_Prepration()\n",
    "\n",
    "eval_m = me.methods(cfg, HP, 'datapath_rowdata')\n",
    "eval_m.models_Prepration()"
   ],
   "metadata": {
    "id": "YoSmyZ22G4eY"
   },
   "id": "YoSmyZ22G4eY",
   "execution_count": null,
   "outputs": []
  },
  {
   "cell_type": "markdown",
   "source": [
    "# Table 3 & 4 Output"
   ],
   "metadata": {
    "id": "Eq5t_wYXG-ZQ"
   },
   "id": "Eq5t_wYXG-ZQ"
  },
  {
   "cell_type": "code",
   "source": [
    "with open(fs_Config_Path) as config_file:\n",
    "     fs_cfg = json.load(config_file)\n",
    "fcf= fsc.feature_selection(fs_cfg, HP)"
   ],
   "metadata": {
    "id": "AizXwMeLG99A"
   },
   "id": "AizXwMeLG99A",
   "execution_count": null,
   "outputs": []
  },
  {
   "cell_type": "markdown",
   "source": [
    "# Table 5 & 6 Output"
   ],
   "metadata": {
    "id": "ZwN1iQ6AHDA4"
   },
   "id": "ZwN1iQ6AHDA4"
  },
  {
   "cell_type": "code",
   "source": [
    "eval_m = me.methods(cfg, HP, 'datapath_RFECV')\n",
    "eval_m.models_Prepration()"
   ],
   "metadata": {
    "id": "yb3fdkCPHLk4"
   },
   "id": "yb3fdkCPHLk4",
   "execution_count": null,
   "outputs": []
  },
  {
   "cell_type": "markdown",
   "source": [
    "#  Table 9 Output"
   ],
   "metadata": {
    "id": "2nDEF3l8HkXA"
   },
   "id": "2nDEF3l8HkXA"
  },
  {
   "cell_type": "code",
   "source": [
    "eval_m = me.methods(cfg, HP, 'bigdatapath_processed')\n",
    "eval_m.models_Prepration()"
   ],
   "metadata": {
    "id": "C6t3AYKMHd2w"
   },
   "id": "C6t3AYKMHd2w",
   "execution_count": null,
   "outputs": []
  },
  {
   "cell_type": "markdown",
   "source": [
    "# paper_method RFECV"
   ],
   "metadata": {
    "id": "MpHzdDPLHuVA"
   },
   "id": "MpHzdDPLHuVA"
  },
  {
   "cell_type": "code",
   "source": [
    "HP = exp.create_experiments()\n",
    "en= 'paper_model_RFECV'\n",
    "sbm.model_run('data/RFECV_fs_dataset.xlsx', HP, en)"
   ],
   "metadata": {
    "id": "H5QKUpcJHlOA"
   },
   "id": "H5QKUpcJHlOA",
   "execution_count": null,
   "outputs": []
  },
  {
   "cell_type": "markdown",
   "source": [
    "# paper_method_bigdata"
   ],
   "metadata": {
    "id": "60aexH0mHyAY"
   },
   "id": "60aexH0mHyAY"
  },
  {
   "cell_type": "code",
   "source": [
    "HP = exp.create_experiments()\n",
    "en= 'paper_model_bigdata'\n",
    "sbm.model_run('data/big_data_Pre_Processed.xlsx', HP, en)\n",
    "\n"
   ],
   "metadata": {
    "id": "CpxnbLS-H1UR",
    "pycharm": {
     "name": "#%%\n"
    }
   },
   "id": "CpxnbLS-H1UR",
   "execution_count": null,
   "outputs": []
  }
 ],
 "metadata": {
  "kernelspec": {
   "display_name": "Python 3.9.13 64-bit",
   "language": "python",
   "name": "python3"
  },
  "language_info": {
   "codemirror_mode": {
    "name": "ipython",
    "version": 3
   },
   "file_extension": ".py",
   "mimetype": "text/x-python",
   "name": "python",
   "nbconvert_exporter": "python",
   "pygments_lexer": "ipython3",
   "version": "3.9.13"
  },
  "vscode": {
   "interpreter": {
    "hash": "b0fa6594d8f4cbf19f97940f81e996739fb7646882a419484c72d19e05852a7e"
   }
  },
  "colab": {
   "name": "all_functions_run.ipynb",
   "provenance": [],
   "collapsed_sections": []
  }
 },
 "nbformat": 4,
 "nbformat_minor": 5
}