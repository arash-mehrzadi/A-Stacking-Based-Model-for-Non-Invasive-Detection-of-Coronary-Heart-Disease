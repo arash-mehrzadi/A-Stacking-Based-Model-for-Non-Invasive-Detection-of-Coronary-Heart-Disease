{
 "cells": [
  {
   "cell_type": "code",
   "execution_count": null,
   "metadata": {},
   "outputs": [],
   "source": [
    "# read df from excel file\n",
    "import pandas as pd\n",
    "\n",
    "# read df from xlsx file\n",
    "df = pd.read_excel('../data/Z-Alizadeh sani dataset.xlsx')\n",
    "\n",
    "df_remove_col = [\"BBB\"]\n",
    "df_numeric_features = [\n",
    "    \"Weight\",\n",
    "    \"Length\", \n",
    "    \"BMI\", \n",
    "    \"BP\", \n",
    "    \"PR\",\n",
    "    \"Age\",\n",
    "    \"FBS\",\n",
    "    \"CR\",\n",
    "    \"TG\",\n",
    "    \"LDL\",\n",
    "    \"HDL\",\n",
    "    \"BUN\",\n",
    "    \"ESR\",\n",
    "    \"HB\",\n",
    "    \"K\",\n",
    "    \"Na\",\n",
    "    \"WBC\",\n",
    "    \"Lymph\",\n",
    "    \"Neut\",\n",
    "    \"PLT\",\n",
    "    \"EF-TTE\",\n",
    "    \"Region RWMA\"\n",
    "]\n",
    "df_categorical_features = [\n",
    "    \"Sex\",\n",
    "    \"DM\",\n",
    "    \"HTN\",\n",
    "    \"Current Smoker\",\n",
    "    \"EX-Smoker\",\n",
    "    \"FH\",\n",
    "    \"Obesity\",\n",
    "    \"CRF\",\n",
    "    \"CVA\",\n",
    "    \"Airway disease\",\n",
    "    \"Thyroid Disease\",\n",
    "    \"CHF\",\n",
    "    \"DLP\",\n",
    "    \"Edema\",\n",
    "    \"Weak Peripheral Pulse\",\n",
    "    \"Lung rales\",\n",
    "    \"Systolic Murmur\",\n",
    "    \"Diastolic Murmur\",\n",
    "    \"Typical Chest Pain\",\n",
    "    \"Dyspnea\",\n",
    "    \"Function Class\",\n",
    "    \"Atypical\",\n",
    "    \"Nonanginal\",\n",
    "    \"Exertional CP\",\n",
    "    \"LowTH Ang\",\n",
    "    \"Q Wave\",\n",
    "    \"St Elevation\",\n",
    "    \"St Depression\",\n",
    "    \"Tinversion\",\n",
    "    \"LVH\",\n",
    "    \"Poor R Progression\",\n",
    "    \"VHD\"\n",
    "]\n",
    "df_lable_name = [\"Cath\"]\n",
    "\n",
    "df.shape"
   ]
  },
  {
   "cell_type": "code",
   "execution_count": null,
   "metadata": {},
   "outputs": [],
   "source": [
    "def one_hot_encode(df):\n",
    "    from sklearn.preprocessing import OneHotEncoder\n",
    "    enc = OneHotEncoder(sparse=False)\n",
    "    enc.fit(df)\n",
    "    col_name = enc.get_feature_names_out(df_categorical_features)\n",
    "    df = pd.DataFrame(enc.transform(df), columns = col_name)\n",
    "    return df\n",
    "\n",
    "def scale_df(df):\n",
    "    from sklearn.preprocessing import MinMaxScaler\n",
    "    scaler = MinMaxScaler()\n",
    "    scaler.fit(df)\n",
    "    df = pd.DataFrame(scaler.transform(df), columns= df_numeric_features)\n",
    "    return df\n",
    "\n",
    "def label_binarize(df):\n",
    "    from sklearn.preprocessing import LabelBinarizer\n",
    "    enc = LabelBinarizer()\n",
    "    enc.fit(df)\n",
    "    df = pd.DataFrame(enc.transform(df), columns= df_lable_name)\n",
    "    return df\n",
    "\n",
    "def preprocess_df(df):\n",
    "    # remove columns\n",
    "    df.drop(\"BBB\", axis=1, inplace=True)\n",
    "\n",
    "    df_numberic = df[df_numeric_features]\n",
    "    df_categorical = df[df_categorical_features]\n",
    "    df_lable = df[df_lable_name]\n",
    "    \n",
    "    df_numberic = scale_df(df_numberic)    \n",
    "    df_categorical = one_hot_encode(df_categorical)\n",
    "    df_lable = label_binarize(df_lable)\n",
    "    \n",
    "    df = pd.concat([df_numberic, df_categorical, df_lable], axis=1)\n",
    "    return df\n",
    "\n",
    "df = preprocess_df(df)\n",
    "df.head()"
   ]
  },
  {
   "cell_type": "code",
   "execution_count": null,
   "metadata": {
    "pycharm": {
     "name": "#%%\n"
    }
   },
   "outputs": [],
   "source": [
    "df.to_excel('../data/Z-Alizadeh sani dataset_preprocessed.xlsx')"
   ]
  }
 ],
 "metadata": {
  "kernelspec": {
   "display_name": "Python 3.9.13 64-bit",
   "language": "python",
   "name": "python3"
  },
  "language_info": {
   "codemirror_mode": {
    "name": "ipython",
    "version": 3
   },
   "file_extension": ".py",
   "mimetype": "text/x-python",
   "name": "python",
   "nbconvert_exporter": "python",
   "pygments_lexer": "ipython3",
   "version": "3.9.13"
  },
  "orig_nbformat": 4,
  "vscode": {
   "interpreter": {
    "hash": "b0fa6594d8f4cbf19f97940f81e996739fb7646882a419484c72d19e05852a7e"
   }
  }
 },
 "nbformat": 4,
 "nbformat_minor": 2
}